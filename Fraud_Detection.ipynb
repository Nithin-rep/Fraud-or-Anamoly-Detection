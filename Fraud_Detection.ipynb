{
  "cells": [
    {
      "cell_type": "code",
      "execution_count": 11,
      "metadata": {
        "id": "G8UYuMyzSsqe"
      },
      "outputs": [],
      "source": [
        "import pandas as pd\n",
        "import numpy as np\n",
        "import matplotlib.pyplot as plt\n",
        "from sklearn.model_selection import train_test_split\n",
        "from sklearn.preprocessing import StandardScaler as scale\n",
        "from sklearn.preprocessing import OrdinalEncoder as oe"
      ]
    },
    {
      "cell_type": "code",
      "execution_count": 14,
      "metadata": {
        "colab": {
          "base_uri": "https://localhost:8080/"
        },
        "id": "D1S7DQ2s7PHk",
        "outputId": "411b5415-dccc-40e7-875a-aad2ba61481e"
      },
      "outputs": [
        {
          "output_type": "execute_result",
          "data": {
            "text/plain": [
              "step              0\n",
              "type              0\n",
              "amount            0\n",
              "nameOrig          0\n",
              "oldbalanceOrg     0\n",
              "newbalanceOrig    0\n",
              "nameDest          0\n",
              "oldbalanceDest    0\n",
              "newbalanceDest    0\n",
              "isFraud           0\n",
              "isFlaggedFraud    0\n",
              "dtype: int64"
            ]
          },
          "metadata": {},
          "execution_count": 14
        }
      ],
      "source": [
        "data = pd.read_csv(\"Fraud_Detection.csv\")\n",
        "data = data.dropna(axis=0)\n",
        "data.isna().sum()"
      ]
    },
    {
      "cell_type": "code",
      "execution_count": 15,
      "metadata": {
        "id": "9FFgQYFDTgrA"
      },
      "outputs": [],
      "source": [
        "x_data = data.drop([\"isFraud\"], axis=1)\n",
        "y_data = data[\"isFraud\"]\n",
        "\n",
        "scale_list = [\"amount\", \"oldbalanceOrg\", \"newbalanceOrig\", \"oldbalanceDest\", \"newbalanceDest\"]\n",
        "encode_list = [\"type\", \"nameOrig\", \"nameDest\"]\n",
        "\n",
        "x_train, x_test, y_train, y_test = train_test_split(x_data, y_data,train_size=0.8)\n",
        "\n",
        "for i in x_data.columns:\n",
        "\n",
        "  if i in scale_list:\n",
        "    scaling = scale()\n",
        "    x_train[i] = scaling.fit_transform(np.array(x_train[i]).reshape(-1, 1))\n",
        "    x_test[i] = scaling.transform(np.array(x_test[i]).reshape(-1, 1))\n",
        "\n",
        "  elif i in encode_list:\n",
        "    encoding = oe(handle_unknown='use_encoded_value', unknown_value=-1)\n",
        "    x_train[i] = encoding.fit_transform(np.array(x_train[i]).reshape(-1, 1))\n",
        "    x_test[i] = encoding.transform(np.array(x_test[i]).reshape(-1, 1))"
      ]
    },
    {
      "cell_type": "code",
      "execution_count": 17,
      "metadata": {
        "colab": {
          "base_uri": "https://localhost:8080/"
        },
        "id": "txRR6K7L0MCL",
        "outputId": "dc31dfd4-ac29-4dd2-df07-69bfd496ceff"
      },
      "outputs": [
        {
          "output_type": "stream",
          "name": "stdout",
          "text": [
            "        step  type    amount  nameOrig  oldbalanceOrg  newbalanceOrig  \\\n",
            "9452       7   3.0 -0.566352  378263.0      -0.270371       -0.276359   \n",
            "565777    23   3.0 -0.568906  299619.0      -0.247694       -0.253732   \n",
            "595270    33   3.0 -0.530639  463263.0      -0.300539       -0.303432   \n",
            "491596    19   1.0 -0.361787  353643.0      -0.180636       -0.206327   \n",
            "325799    16   3.0 -0.514904   20642.0      -0.162585       -0.174588   \n",
            "\n",
            "        nameDest  oldbalanceDest  newbalanceDest  isFlaggedFraud  \n",
            "9452     98785.0       -0.418875       -0.458300             0.0  \n",
            "565777  136469.0       -0.418875       -0.458300             0.0  \n",
            "595270   58955.0       -0.418875       -0.458300             0.0  \n",
            "491596    8298.0        9.588381        8.982745             0.0  \n",
            "325799  110334.0       -0.418875       -0.458300             0.0  \n"
          ]
        }
      ],
      "source": [
        "print(x_train.head())"
      ]
    },
    {
      "cell_type": "code",
      "execution_count": 51,
      "metadata": {
        "colab": {
          "base_uri": "https://localhost:8080/",
          "height": 1000
        },
        "id": "QRJT_mKP3vOC",
        "outputId": "4133e518-a5e3-4ace-d1cf-17fa415f5b1e"
      },
      "outputs": [
        {
          "output_type": "stream",
          "name": "stdout",
          "text": [
            "[0]\tvalidation_0-logloss:0.59836\tvalidation_1-logloss:0.59835\n",
            "[1]\tvalidation_0-logloss:0.52074\tvalidation_1-logloss:0.52071\n",
            "[2]\tvalidation_0-logloss:0.45601\tvalidation_1-logloss:0.45597\n",
            "[3]\tvalidation_0-logloss:0.40130\tvalidation_1-logloss:0.40126\n",
            "[4]\tvalidation_0-logloss:0.35457\tvalidation_1-logloss:0.35452\n",
            "[5]\tvalidation_0-logloss:0.31431\tvalidation_1-logloss:0.31426\n",
            "[6]\tvalidation_0-logloss:0.27938\tvalidation_1-logloss:0.27935\n",
            "[7]\tvalidation_0-logloss:0.24891\tvalidation_1-logloss:0.24889\n",
            "[8]\tvalidation_0-logloss:0.22222\tvalidation_1-logloss:0.22237\n",
            "[9]\tvalidation_0-logloss:0.19864\tvalidation_1-logloss:0.19879\n",
            "[10]\tvalidation_0-logloss:0.17783\tvalidation_1-logloss:0.17798\n",
            "[11]\tvalidation_0-logloss:0.15943\tvalidation_1-logloss:0.15958\n",
            "[12]\tvalidation_0-logloss:0.14314\tvalidation_1-logloss:0.14341\n",
            "[13]\tvalidation_0-logloss:0.12861\tvalidation_1-logloss:0.12887\n",
            "[14]\tvalidation_0-logloss:0.11565\tvalidation_1-logloss:0.11592\n",
            "[15]\tvalidation_0-logloss:0.10409\tvalidation_1-logloss:0.10435\n",
            "[16]\tvalidation_0-logloss:0.09376\tvalidation_1-logloss:0.09402\n",
            "[17]\tvalidation_0-logloss:0.08452\tvalidation_1-logloss:0.08477\n",
            "[18]\tvalidation_0-logloss:0.07624\tvalidation_1-logloss:0.07650\n",
            "[19]\tvalidation_0-logloss:0.06881\tvalidation_1-logloss:0.06907\n",
            "[20]\tvalidation_0-logloss:0.06214\tvalidation_1-logloss:0.06240\n",
            "[21]\tvalidation_0-logloss:0.05615\tvalidation_1-logloss:0.05640\n",
            "[22]\tvalidation_0-logloss:0.05077\tvalidation_1-logloss:0.05102\n",
            "[23]\tvalidation_0-logloss:0.04592\tvalidation_1-logloss:0.04618\n",
            "[24]\tvalidation_0-logloss:0.04155\tvalidation_1-logloss:0.04181\n",
            "[25]\tvalidation_0-logloss:0.03762\tvalidation_1-logloss:0.03789\n",
            "[26]\tvalidation_0-logloss:0.03409\tvalidation_1-logloss:0.03436\n",
            "[27]\tvalidation_0-logloss:0.03090\tvalidation_1-logloss:0.03118\n",
            "[28]\tvalidation_0-logloss:0.02802\tvalidation_1-logloss:0.02831\n",
            "[29]\tvalidation_0-logloss:0.02543\tvalidation_1-logloss:0.02571\n",
            "[30]\tvalidation_0-logloss:0.02310\tvalidation_1-logloss:0.02338\n",
            "[31]\tvalidation_0-logloss:0.02097\tvalidation_1-logloss:0.02125\n",
            "[32]\tvalidation_0-logloss:0.01904\tvalidation_1-logloss:0.01934\n",
            "[33]\tvalidation_0-logloss:0.01730\tvalidation_1-logloss:0.01761\n",
            "[34]\tvalidation_0-logloss:0.01571\tvalidation_1-logloss:0.01604\n",
            "[35]\tvalidation_0-logloss:0.01428\tvalidation_1-logloss:0.01466\n",
            "[36]\tvalidation_0-logloss:0.01298\tvalidation_1-logloss:0.01343\n",
            "[37]\tvalidation_0-logloss:0.01180\tvalidation_1-logloss:0.01230\n",
            "[38]\tvalidation_0-logloss:0.01073\tvalidation_1-logloss:0.01125\n",
            "[39]\tvalidation_0-logloss:0.00977\tvalidation_1-logloss:0.01036\n",
            "[40]\tvalidation_0-logloss:0.00889\tvalidation_1-logloss:0.00951\n",
            "[41]\tvalidation_0-logloss:0.00810\tvalidation_1-logloss:0.00874\n",
            "[42]\tvalidation_0-logloss:0.00738\tvalidation_1-logloss:0.00805\n",
            "[43]\tvalidation_0-logloss:0.00673\tvalidation_1-logloss:0.00741\n",
            "[44]\tvalidation_0-logloss:0.00614\tvalidation_1-logloss:0.00685\n",
            "[45]\tvalidation_0-logloss:0.00560\tvalidation_1-logloss:0.00634\n",
            "[46]\tvalidation_0-logloss:0.00512\tvalidation_1-logloss:0.00587\n",
            "[47]\tvalidation_0-logloss:0.00468\tvalidation_1-logloss:0.00547\n",
            "[48]\tvalidation_0-logloss:0.00428\tvalidation_1-logloss:0.00512\n",
            "[49]\tvalidation_0-logloss:0.00392\tvalidation_1-logloss:0.00478\n",
            "[50]\tvalidation_0-logloss:0.00359\tvalidation_1-logloss:0.00450\n",
            "[51]\tvalidation_0-logloss:0.00329\tvalidation_1-logloss:0.00423\n",
            "[52]\tvalidation_0-logloss:0.00303\tvalidation_1-logloss:0.00395\n",
            "[53]\tvalidation_0-logloss:0.00278\tvalidation_1-logloss:0.00370\n",
            "[54]\tvalidation_0-logloss:0.00256\tvalidation_1-logloss:0.00347\n",
            "[55]\tvalidation_0-logloss:0.00236\tvalidation_1-logloss:0.00327\n",
            "[56]\tvalidation_0-logloss:0.00218\tvalidation_1-logloss:0.00310\n",
            "[57]\tvalidation_0-logloss:0.00201\tvalidation_1-logloss:0.00295\n",
            "[58]\tvalidation_0-logloss:0.00186\tvalidation_1-logloss:0.00282\n",
            "[59]\tvalidation_0-logloss:0.00172\tvalidation_1-logloss:0.00271\n",
            "[60]\tvalidation_0-logloss:0.00160\tvalidation_1-logloss:0.00261\n",
            "[61]\tvalidation_0-logloss:0.00148\tvalidation_1-logloss:0.00251\n",
            "[62]\tvalidation_0-logloss:0.00138\tvalidation_1-logloss:0.00246\n",
            "[63]\tvalidation_0-logloss:0.00128\tvalidation_1-logloss:0.00238\n",
            "[64]\tvalidation_0-logloss:0.00120\tvalidation_1-logloss:0.00232\n",
            "[65]\tvalidation_0-logloss:0.00112\tvalidation_1-logloss:0.00227\n",
            "[66]\tvalidation_0-logloss:0.00105\tvalidation_1-logloss:0.00223\n",
            "[67]\tvalidation_0-logloss:0.00099\tvalidation_1-logloss:0.00216\n",
            "[68]\tvalidation_0-logloss:0.00093\tvalidation_1-logloss:0.00213\n",
            "[69]\tvalidation_0-logloss:0.00088\tvalidation_1-logloss:0.00209\n",
            "[70]\tvalidation_0-logloss:0.00083\tvalidation_1-logloss:0.00202\n",
            "[71]\tvalidation_0-logloss:0.00078\tvalidation_1-logloss:0.00196\n",
            "[72]\tvalidation_0-logloss:0.00074\tvalidation_1-logloss:0.00194\n",
            "[73]\tvalidation_0-logloss:0.00071\tvalidation_1-logloss:0.00192\n",
            "[74]\tvalidation_0-logloss:0.00067\tvalidation_1-logloss:0.00186\n",
            "[75]\tvalidation_0-logloss:0.00064\tvalidation_1-logloss:0.00183\n",
            "[76]\tvalidation_0-logloss:0.00061\tvalidation_1-logloss:0.00178\n",
            "[77]\tvalidation_0-logloss:0.00058\tvalidation_1-logloss:0.00179\n",
            "[78]\tvalidation_0-logloss:0.00055\tvalidation_1-logloss:0.00175\n",
            "[79]\tvalidation_0-logloss:0.00053\tvalidation_1-logloss:0.00172\n",
            "[80]\tvalidation_0-logloss:0.00051\tvalidation_1-logloss:0.00169\n",
            "[81]\tvalidation_0-logloss:0.00048\tvalidation_1-logloss:0.00166\n",
            "[82]\tvalidation_0-logloss:0.00047\tvalidation_1-logloss:0.00166\n",
            "[83]\tvalidation_0-logloss:0.00045\tvalidation_1-logloss:0.00166\n",
            "[84]\tvalidation_0-logloss:0.00043\tvalidation_1-logloss:0.00167\n",
            "[85]\tvalidation_0-logloss:0.00042\tvalidation_1-logloss:0.00166\n",
            "[86]\tvalidation_0-logloss:0.00040\tvalidation_1-logloss:0.00165\n",
            "[87]\tvalidation_0-logloss:0.00039\tvalidation_1-logloss:0.00166\n",
            "[88]\tvalidation_0-logloss:0.00038\tvalidation_1-logloss:0.00167\n",
            "[89]\tvalidation_0-logloss:0.00036\tvalidation_1-logloss:0.00165\n",
            "[90]\tvalidation_0-logloss:0.00035\tvalidation_1-logloss:0.00167\n",
            "[91]\tvalidation_0-logloss:0.00034\tvalidation_1-logloss:0.00167\n",
            "[92]\tvalidation_0-logloss:0.00033\tvalidation_1-logloss:0.00166\n",
            "[93]\tvalidation_0-logloss:0.00032\tvalidation_1-logloss:0.00167\n",
            "[94]\tvalidation_0-logloss:0.00032\tvalidation_1-logloss:0.00169\n",
            "[95]\tvalidation_0-logloss:0.00031\tvalidation_1-logloss:0.00172\n",
            "[96]\tvalidation_0-logloss:0.00030\tvalidation_1-logloss:0.00172\n",
            "[97]\tvalidation_0-logloss:0.00029\tvalidation_1-logloss:0.00172\n",
            "[98]\tvalidation_0-logloss:0.00029\tvalidation_1-logloss:0.00174\n",
            "[99]\tvalidation_0-logloss:0.00028\tvalidation_1-logloss:0.00177\n"
          ]
        },
        {
          "output_type": "execute_result",
          "data": {
            "text/plain": [
              "XGBClassifier(base_score=None, booster=None, callbacks=None,\n",
              "              colsample_bylevel=None, colsample_bynode=None,\n",
              "              colsample_bytree=None, early_stopping_rounds=None,\n",
              "              enable_categorical=False, eval_metric=None, feature_types=None,\n",
              "              gamma=None, gpu_id=None, grow_policy=None, importance_type=None,\n",
              "              interaction_constraints=None, learning_rate=0.1, max_bin=None,\n",
              "              max_cat_threshold=None, max_cat_to_onehot=None,\n",
              "              max_delta_step=None, max_depth=100, max_leaves=None,\n",
              "              min_child_weight=None, missing=nan, monotone_constraints=None,\n",
              "              n_estimators=100, n_jobs=None, nthread=4, num_parallel_tree=None,\n",
              "              predictor=None, ...)"
            ],
            "text/html": [
              "<style>#sk-container-id-7 {color: black;background-color: white;}#sk-container-id-7 pre{padding: 0;}#sk-container-id-7 div.sk-toggleable {background-color: white;}#sk-container-id-7 label.sk-toggleable__label {cursor: pointer;display: block;width: 100%;margin-bottom: 0;padding: 0.3em;box-sizing: border-box;text-align: center;}#sk-container-id-7 label.sk-toggleable__label-arrow:before {content: \"▸\";float: left;margin-right: 0.25em;color: #696969;}#sk-container-id-7 label.sk-toggleable__label-arrow:hover:before {color: black;}#sk-container-id-7 div.sk-estimator:hover label.sk-toggleable__label-arrow:before {color: black;}#sk-container-id-7 div.sk-toggleable__content {max-height: 0;max-width: 0;overflow: hidden;text-align: left;background-color: #f0f8ff;}#sk-container-id-7 div.sk-toggleable__content pre {margin: 0.2em;color: black;border-radius: 0.25em;background-color: #f0f8ff;}#sk-container-id-7 input.sk-toggleable__control:checked~div.sk-toggleable__content {max-height: 200px;max-width: 100%;overflow: auto;}#sk-container-id-7 input.sk-toggleable__control:checked~label.sk-toggleable__label-arrow:before {content: \"▾\";}#sk-container-id-7 div.sk-estimator input.sk-toggleable__control:checked~label.sk-toggleable__label {background-color: #d4ebff;}#sk-container-id-7 div.sk-label input.sk-toggleable__control:checked~label.sk-toggleable__label {background-color: #d4ebff;}#sk-container-id-7 input.sk-hidden--visually {border: 0;clip: rect(1px 1px 1px 1px);clip: rect(1px, 1px, 1px, 1px);height: 1px;margin: -1px;overflow: hidden;padding: 0;position: absolute;width: 1px;}#sk-container-id-7 div.sk-estimator {font-family: monospace;background-color: #f0f8ff;border: 1px dotted black;border-radius: 0.25em;box-sizing: border-box;margin-bottom: 0.5em;}#sk-container-id-7 div.sk-estimator:hover {background-color: #d4ebff;}#sk-container-id-7 div.sk-parallel-item::after {content: \"\";width: 100%;border-bottom: 1px solid gray;flex-grow: 1;}#sk-container-id-7 div.sk-label:hover label.sk-toggleable__label {background-color: #d4ebff;}#sk-container-id-7 div.sk-serial::before {content: \"\";position: absolute;border-left: 1px solid gray;box-sizing: border-box;top: 0;bottom: 0;left: 50%;z-index: 0;}#sk-container-id-7 div.sk-serial {display: flex;flex-direction: column;align-items: center;background-color: white;padding-right: 0.2em;padding-left: 0.2em;position: relative;}#sk-container-id-7 div.sk-item {position: relative;z-index: 1;}#sk-container-id-7 div.sk-parallel {display: flex;align-items: stretch;justify-content: center;background-color: white;position: relative;}#sk-container-id-7 div.sk-item::before, #sk-container-id-7 div.sk-parallel-item::before {content: \"\";position: absolute;border-left: 1px solid gray;box-sizing: border-box;top: 0;bottom: 0;left: 50%;z-index: -1;}#sk-container-id-7 div.sk-parallel-item {display: flex;flex-direction: column;z-index: 1;position: relative;background-color: white;}#sk-container-id-7 div.sk-parallel-item:first-child::after {align-self: flex-end;width: 50%;}#sk-container-id-7 div.sk-parallel-item:last-child::after {align-self: flex-start;width: 50%;}#sk-container-id-7 div.sk-parallel-item:only-child::after {width: 0;}#sk-container-id-7 div.sk-dashed-wrapped {border: 1px dashed gray;margin: 0 0.4em 0.5em 0.4em;box-sizing: border-box;padding-bottom: 0.4em;background-color: white;}#sk-container-id-7 div.sk-label label {font-family: monospace;font-weight: bold;display: inline-block;line-height: 1.2em;}#sk-container-id-7 div.sk-label-container {text-align: center;}#sk-container-id-7 div.sk-container {/* jupyter's `normalize.less` sets `[hidden] { display: none; }` but bootstrap.min.css set `[hidden] { display: none !important; }` so we also need the `!important` here to be able to override the default hidden behavior on the sphinx rendered scikit-learn.org. See: https://github.com/scikit-learn/scikit-learn/issues/21755 */display: inline-block !important;position: relative;}#sk-container-id-7 div.sk-text-repr-fallback {display: none;}</style><div id=\"sk-container-id-7\" class=\"sk-top-container\"><div class=\"sk-text-repr-fallback\"><pre>XGBClassifier(base_score=None, booster=None, callbacks=None,\n",
              "              colsample_bylevel=None, colsample_bynode=None,\n",
              "              colsample_bytree=None, early_stopping_rounds=None,\n",
              "              enable_categorical=False, eval_metric=None, feature_types=None,\n",
              "              gamma=None, gpu_id=None, grow_policy=None, importance_type=None,\n",
              "              interaction_constraints=None, learning_rate=0.1, max_bin=None,\n",
              "              max_cat_threshold=None, max_cat_to_onehot=None,\n",
              "              max_delta_step=None, max_depth=100, max_leaves=None,\n",
              "              min_child_weight=None, missing=nan, monotone_constraints=None,\n",
              "              n_estimators=100, n_jobs=None, nthread=4, num_parallel_tree=None,\n",
              "              predictor=None, ...)</pre><b>In a Jupyter environment, please rerun this cell to show the HTML representation or trust the notebook. <br />On GitHub, the HTML representation is unable to render, please try loading this page with nbviewer.org.</b></div><div class=\"sk-container\" hidden><div class=\"sk-item\"><div class=\"sk-estimator sk-toggleable\"><input class=\"sk-toggleable__control sk-hidden--visually\" id=\"sk-estimator-id-7\" type=\"checkbox\" checked><label for=\"sk-estimator-id-7\" class=\"sk-toggleable__label sk-toggleable__label-arrow\">XGBClassifier</label><div class=\"sk-toggleable__content\"><pre>XGBClassifier(base_score=None, booster=None, callbacks=None,\n",
              "              colsample_bylevel=None, colsample_bynode=None,\n",
              "              colsample_bytree=None, early_stopping_rounds=None,\n",
              "              enable_categorical=False, eval_metric=None, feature_types=None,\n",
              "              gamma=None, gpu_id=None, grow_policy=None, importance_type=None,\n",
              "              interaction_constraints=None, learning_rate=0.1, max_bin=None,\n",
              "              max_cat_threshold=None, max_cat_to_onehot=None,\n",
              "              max_delta_step=None, max_depth=100, max_leaves=None,\n",
              "              min_child_weight=None, missing=nan, monotone_constraints=None,\n",
              "              n_estimators=100, n_jobs=None, nthread=4, num_parallel_tree=None,\n",
              "              predictor=None, ...)</pre></div></div></div></div></div>"
            ]
          },
          "metadata": {},
          "execution_count": 51
        }
      ],
      "source": [
        "import xgboost as xgb\n",
        "model = xgb.XGBClassifier(n_estimators=100, max_depth=100, learning_rate=0.1, objective='binary:logistic',  nthread=4, seed=20)\n",
        "model.fit(x_train, y_train, eval_set=[(x_train, y_train), (x_test, y_test)])"
      ]
    },
    {
      "cell_type": "code",
      "execution_count": 52,
      "metadata": {
        "id": "svuvmyyd8wcX",
        "colab": {
          "base_uri": "https://localhost:8080/"
        },
        "outputId": "7925f68f-af4c-47f8-92b3-b67c89f5d362"
      },
      "outputs": [
        {
          "output_type": "stream",
          "name": "stdout",
          "text": [
            "0.999584846067434\n"
          ]
        }
      ],
      "source": [
        "y_pred = model.predict(x_test)\n",
        "\n",
        "from sklearn.metrics import accuracy_score\n",
        "score = accuracy_score(y_test, y_pred)\n",
        "print(score)"
      ]
    },
    {
      "cell_type": "code",
      "source": [
        "print(\"The train data class distribution:\")\n",
        "print(y_train.value_counts())\n",
        "\n",
        "print(\"\\nThe test data class distributio:\")\n",
        "print(y_test.value_counts())\n",
        "\n",
        "print(\"\\nThe prediction distribution:\")\n",
        "print(pd.DataFrame(y_pred).value_counts())\n",
        "\n",
        "print(\"\\nThe number of samples predicted wrongly:\")\n",
        "print(len(y_test) - (score * len(y_test)))\n",
        "\n",
        "print(\"\\nThere is a huge unbalance in the fraud class in the dataset\")"
      ],
      "metadata": {
        "colab": {
          "base_uri": "https://localhost:8080/"
        },
        "id": "Z43npSnQErDH",
        "outputId": "25498e40-bead-40b6-baeb-6db344132f06"
      },
      "execution_count": 57,
      "outputs": [
        {
          "output_type": "stream",
          "name": "stdout",
          "text": [
            "The train data class distribution:\n",
            "0.0    491077\n",
            "1.0       306\n",
            "Name: isFraud, dtype: int64\n",
            "\n",
            "The test data class distributio:\n",
            "0.0    122781\n",
            "1.0        65\n",
            "Name: isFraud, dtype: int64\n",
            "\n",
            "The prediction distribution:\n",
            "0    122786\n",
            "1        60\n",
            "dtype: int64\n",
            "\n",
            "The number of samples predicted wrongly:\n",
            "51.0\n",
            "\n",
            "There is a huge unbalance in the fraud class in the dataset\n"
          ]
        }
      ]
    },
    {
      "cell_type": "code",
      "source": [
        "from sklearn.metrics import f1_score\n",
        "print(f1_score(y_test, y_pred))\n",
        "\n",
        "print(\"The fraud samples available for the model are very less, so the f1 has droped.\")\n"
      ],
      "metadata": {
        "colab": {
          "base_uri": "https://localhost:8080/"
        },
        "id": "RgGhss0fFb9Q",
        "outputId": "509319a4-fe23-42ef-b9c8-04b0f60df2ac"
      },
      "execution_count": 54,
      "outputs": [
        {
          "output_type": "stream",
          "name": "stdout",
          "text": [
            "0.5920000000000001\n"
          ]
        }
      ]
    }
  ],
  "metadata": {
    "colab": {
      "provenance": []
    },
    "kernelspec": {
      "display_name": "Python 3",
      "name": "python3"
    },
    "language_info": {
      "name": "python"
    }
  },
  "nbformat": 4,
  "nbformat_minor": 0
}